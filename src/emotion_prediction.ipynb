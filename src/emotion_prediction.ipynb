{
 "cells": [
  {
   "cell_type": "code",
   "execution_count": 1,
   "metadata": {},
   "outputs": [
    {
     "name": "stderr",
     "output_type": "stream",
     "text": [
      "C:\\Users\\Deepanshu Somani\\anaconda3\\lib\\site-packages\\tensorflow\\python\\framework\\dtypes.py:516: FutureWarning: Passing (type, 1) or '1type' as a synonym of type is deprecated; in a future version of numpy, it will be understood as (type, (1,)) / '(1,)type'.\n",
      "  _np_qint8 = np.dtype([(\"qint8\", np.int8, 1)])\n",
      "C:\\Users\\Deepanshu Somani\\anaconda3\\lib\\site-packages\\tensorflow\\python\\framework\\dtypes.py:517: FutureWarning: Passing (type, 1) or '1type' as a synonym of type is deprecated; in a future version of numpy, it will be understood as (type, (1,)) / '(1,)type'.\n",
      "  _np_quint8 = np.dtype([(\"quint8\", np.uint8, 1)])\n",
      "C:\\Users\\Deepanshu Somani\\anaconda3\\lib\\site-packages\\tensorflow\\python\\framework\\dtypes.py:518: FutureWarning: Passing (type, 1) or '1type' as a synonym of type is deprecated; in a future version of numpy, it will be understood as (type, (1,)) / '(1,)type'.\n",
      "  _np_qint16 = np.dtype([(\"qint16\", np.int16, 1)])\n",
      "C:\\Users\\Deepanshu Somani\\anaconda3\\lib\\site-packages\\tensorflow\\python\\framework\\dtypes.py:519: FutureWarning: Passing (type, 1) or '1type' as a synonym of type is deprecated; in a future version of numpy, it will be understood as (type, (1,)) / '(1,)type'.\n",
      "  _np_quint16 = np.dtype([(\"quint16\", np.uint16, 1)])\n",
      "C:\\Users\\Deepanshu Somani\\anaconda3\\lib\\site-packages\\tensorflow\\python\\framework\\dtypes.py:520: FutureWarning: Passing (type, 1) or '1type' as a synonym of type is deprecated; in a future version of numpy, it will be understood as (type, (1,)) / '(1,)type'.\n",
      "  _np_qint32 = np.dtype([(\"qint32\", np.int32, 1)])\n",
      "C:\\Users\\Deepanshu Somani\\anaconda3\\lib\\site-packages\\tensorflow\\python\\framework\\dtypes.py:525: FutureWarning: Passing (type, 1) or '1type' as a synonym of type is deprecated; in a future version of numpy, it will be understood as (type, (1,)) / '(1,)type'.\n",
      "  np_resource = np.dtype([(\"resource\", np.ubyte, 1)])\n",
      "C:\\Users\\Deepanshu Somani\\anaconda3\\lib\\site-packages\\tensorboard\\compat\\tensorflow_stub\\dtypes.py:541: FutureWarning: Passing (type, 1) or '1type' as a synonym of type is deprecated; in a future version of numpy, it will be understood as (type, (1,)) / '(1,)type'.\n",
      "  _np_qint8 = np.dtype([(\"qint8\", np.int8, 1)])\n",
      "C:\\Users\\Deepanshu Somani\\anaconda3\\lib\\site-packages\\tensorboard\\compat\\tensorflow_stub\\dtypes.py:542: FutureWarning: Passing (type, 1) or '1type' as a synonym of type is deprecated; in a future version of numpy, it will be understood as (type, (1,)) / '(1,)type'.\n",
      "  _np_quint8 = np.dtype([(\"quint8\", np.uint8, 1)])\n",
      "C:\\Users\\Deepanshu Somani\\anaconda3\\lib\\site-packages\\tensorboard\\compat\\tensorflow_stub\\dtypes.py:543: FutureWarning: Passing (type, 1) or '1type' as a synonym of type is deprecated; in a future version of numpy, it will be understood as (type, (1,)) / '(1,)type'.\n",
      "  _np_qint16 = np.dtype([(\"qint16\", np.int16, 1)])\n",
      "C:\\Users\\Deepanshu Somani\\anaconda3\\lib\\site-packages\\tensorboard\\compat\\tensorflow_stub\\dtypes.py:544: FutureWarning: Passing (type, 1) or '1type' as a synonym of type is deprecated; in a future version of numpy, it will be understood as (type, (1,)) / '(1,)type'.\n",
      "  _np_quint16 = np.dtype([(\"quint16\", np.uint16, 1)])\n",
      "C:\\Users\\Deepanshu Somani\\anaconda3\\lib\\site-packages\\tensorboard\\compat\\tensorflow_stub\\dtypes.py:545: FutureWarning: Passing (type, 1) or '1type' as a synonym of type is deprecated; in a future version of numpy, it will be understood as (type, (1,)) / '(1,)type'.\n",
      "  _np_qint32 = np.dtype([(\"qint32\", np.int32, 1)])\n",
      "C:\\Users\\Deepanshu Somani\\anaconda3\\lib\\site-packages\\tensorboard\\compat\\tensorflow_stub\\dtypes.py:550: FutureWarning: Passing (type, 1) or '1type' as a synonym of type is deprecated; in a future version of numpy, it will be understood as (type, (1,)) / '(1,)type'.\n",
      "  np_resource = np.dtype([(\"resource\", np.ubyte, 1)])\n"
     ]
    }
   ],
   "source": [
    "import tensorflow as tf\n",
    "from tensorflow import keras\n",
    "import numpy as np\n",
    "import pandas as pd\n",
    "import matplotlib.pyplot as plt\n",
    "import cv2\n",
    "from tensorflow.keras.preprocessing.image import ImageDataGenerator\n",
    "from tensorflow.keras.models import Sequential\n",
    "from tensorflow.keras.layers import Dense , Flatten , Dropout\n",
    "from tensorflow.keras.layers import MaxPooling2D , Conv2D\n",
    "import os\n",
    "from tensorflow.keras.optimizers import Adam"
   ]
  },
  {
   "cell_type": "code",
   "execution_count": 2,
   "metadata": {},
   "outputs": [],
   "source": [
    "train_dir = 'data/train'\n",
    "val_dir = 'data/test'"
   ]
  },
  {
   "cell_type": "code",
   "execution_count": 3,
   "metadata": {},
   "outputs": [],
   "source": [
    "num_train = 28709\n",
    "num_val = 7178\n",
    "batch_size = 64\n",
    "num_epoch = 50"
   ]
  },
  {
   "cell_type": "code",
   "execution_count": 4,
   "metadata": {},
   "outputs": [],
   "source": [
    "train_datagen = ImageDataGenerator(1./255)\n",
    "val_datagen = ImageDataGenerator(1./255)"
   ]
  },
  {
   "cell_type": "code",
   "execution_count": 5,
   "metadata": {},
   "outputs": [
    {
     "name": "stdout",
     "output_type": "stream",
     "text": [
      "Found 28709 images belonging to 7 classes.\n",
      "Found 7178 images belonging to 7 classes.\n"
     ]
    }
   ],
   "source": [
    "train_generator = train_datagen.flow_from_directory(\n",
    "    train_dir,\n",
    "    target_size = (48,48),\n",
    "    batch_size = batch_size,\n",
    "    color_mode = 'grayscale',\n",
    "    class_mode = 'categorical'\n",
    ")\n",
    "validation_generator = val_datagen.flow_from_directory(\n",
    "    val_dir,\n",
    "    target_size = (48,48),\n",
    "    batch_size = batch_size,\n",
    "    color_mode = 'grayscale',\n",
    "    class_mode = 'categorical'\n",
    ")"
   ]
  },
  {
   "cell_type": "code",
   "execution_count": 6,
   "metadata": {},
   "outputs": [],
   "source": [
    "model = Sequential()"
   ]
  },
  {
   "cell_type": "code",
   "execution_count": 7,
   "metadata": {},
   "outputs": [
    {
     "name": "stdout",
     "output_type": "stream",
     "text": [
      "WARNING:tensorflow:From C:\\Users\\Deepanshu Somani\\anaconda3\\lib\\site-packages\\tensorflow\\python\\ops\\init_ops.py:1251: calling VarianceScaling.__init__ (from tensorflow.python.ops.init_ops) with dtype is deprecated and will be removed in a future version.\n",
      "Instructions for updating:\n",
      "Call initializer instance with the dtype argument instead of passing it to the constructor\n"
     ]
    }
   ],
   "source": [
    "model.add(Conv2D(32, kernel_size=(3, 3), activation='relu', input_shape=(48,48,1)))\n",
    "model.add(Conv2D(64, kernel_size=(3, 3), activation='relu'))\n",
    "model.add(MaxPooling2D(pool_size=(2, 2)))\n",
    "model.add(Dropout(0.25))"
   ]
  },
  {
   "cell_type": "code",
   "execution_count": 8,
   "metadata": {},
   "outputs": [],
   "source": [
    "model.add(Conv2D(128, kernel_size=(3, 3), activation='relu'))\n",
    "model.add(MaxPooling2D(pool_size=(2, 2)))\n",
    "model.add(Conv2D(128, kernel_size=(3, 3), activation='relu'))\n",
    "model.add(MaxPooling2D(pool_size=(2, 2)))\n",
    "model.add(Dropout(0.25))"
   ]
  },
  {
   "cell_type": "code",
   "execution_count": 9,
   "metadata": {},
   "outputs": [],
   "source": [
    "model.add(Flatten())\n",
    "model.add(Dense(1024, activation='relu'))\n",
    "model.add(Dropout(0.5))\n",
    "model.add(Dense(7, activation='softmax'))"
   ]
  },
  {
   "cell_type": "code",
   "execution_count": 10,
   "metadata": {},
   "outputs": [
    {
     "name": "stderr",
     "output_type": "stream",
     "text": [
      "C:\\Users\\Deepanshu Somani\\anaconda3\\lib\\site-packages\\keras_preprocessing\\image\\image_data_generator.py:716: UserWarning: This ImageDataGenerator specifies `featurewise_center`, but it hasn't been fit on any training data. Fit it first by calling `.fit(numpy_data)`.\n",
      "  warnings.warn('This ImageDataGenerator specifies '\n"
     ]
    },
    {
     "name": "stdout",
     "output_type": "stream",
     "text": [
      "Epoch 1/50\n"
     ]
    },
    {
     "name": "stderr",
     "output_type": "stream",
     "text": [
      "C:\\Users\\Deepanshu Somani\\anaconda3\\lib\\site-packages\\keras_preprocessing\\image\\image_data_generator.py:716: UserWarning: This ImageDataGenerator specifies `featurewise_center`, but it hasn't been fit on any training data. Fit it first by calling `.fit(numpy_data)`.\n",
      "  warnings.warn('This ImageDataGenerator specifies '\n",
      "C:\\Users\\Deepanshu Somani\\anaconda3\\lib\\site-packages\\keras_preprocessing\\image\\image_data_generator.py:716: UserWarning: This ImageDataGenerator specifies `featurewise_center`, but it hasn't been fit on any training data. Fit it first by calling `.fit(numpy_data)`.\n",
      "  warnings.warn('This ImageDataGenerator specifies '\n",
      "C:\\Users\\Deepanshu Somani\\anaconda3\\lib\\site-packages\\keras_preprocessing\\image\\image_data_generator.py:716: UserWarning: This ImageDataGenerator specifies `featurewise_center`, but it hasn't been fit on any training data. Fit it first by calling `.fit(numpy_data)`.\n",
      "  warnings.warn('This ImageDataGenerator specifies '\n",
      "C:\\Users\\Deepanshu Somani\\anaconda3\\lib\\site-packages\\keras_preprocessing\\image\\image_data_generator.py:716: UserWarning: This ImageDataGenerator specifies `featurewise_center`, but it hasn't been fit on any training data. Fit it first by calling `.fit(numpy_data)`.\n",
      "  warnings.warn('This ImageDataGenerator specifies '\n"
     ]
    },
    {
     "name": "stdout",
     "output_type": "stream",
     "text": [
      "448/448 [==============================] - 108s 241ms/step - loss: 2.2475 - acc: 0.2221 - val_loss: 1.8736 - val_acc: 0.2559\n",
      "Epoch 2/50\n",
      "448/448 [==============================] - 22s 48ms/step - loss: 1.8193 - acc: 0.2496 - val_loss: 1.8110 - val_acc: 0.2888\n",
      "Epoch 3/50\n",
      "448/448 [==============================] - 22s 49ms/step - loss: 1.7728 - acc: 0.2851 - val_loss: 1.6959 - val_acc: 0.3368\n",
      "Epoch 4/50\n",
      "448/448 [==============================] - 22s 50ms/step - loss: 1.7089 - acc: 0.3237 - val_loss: 1.6116 - val_acc: 0.3943\n",
      "Epoch 5/50\n",
      "448/448 [==============================] - 22s 49ms/step - loss: 1.6281 - acc: 0.3658 - val_loss: 1.5466 - val_acc: 0.4029\n",
      "Epoch 6/50\n",
      "448/448 [==============================] - 22s 49ms/step - loss: 1.5567 - acc: 0.3974 - val_loss: 1.4570 - val_acc: 0.4587\n",
      "Epoch 7/50\n",
      "448/448 [==============================] - 25s 55ms/step - loss: 1.4980 - acc: 0.4183 - val_loss: 1.4006 - val_acc: 0.4739\n",
      "Epoch 8/50\n",
      "448/448 [==============================] - 23s 50ms/step - loss: 1.4418 - acc: 0.4518 - val_loss: 1.3756 - val_acc: 0.4760\n",
      "Epoch 9/50\n",
      "448/448 [==============================] - 22s 49ms/step - loss: 1.3835 - acc: 0.4736 - val_loss: 1.3195 - val_acc: 0.5081\n",
      "Epoch 10/50\n",
      "448/448 [==============================] - 22s 49ms/step - loss: 1.3402 - acc: 0.4928 - val_loss: 1.2766 - val_acc: 0.5211\n",
      "Epoch 11/50\n",
      "448/448 [==============================] - 22s 48ms/step - loss: 1.2924 - acc: 0.5127 - val_loss: 1.2437 - val_acc: 0.5331\n",
      "Epoch 12/50\n",
      "448/448 [==============================] - 22s 49ms/step - loss: 1.2554 - acc: 0.5238 - val_loss: 1.2220 - val_acc: 0.5356\n",
      "Epoch 13/50\n",
      "448/448 [==============================] - 22s 49ms/step - loss: 1.2212 - acc: 0.5392 - val_loss: 1.2059 - val_acc: 0.5480\n",
      "Epoch 14/50\n",
      "448/448 [==============================] - 22s 49ms/step - loss: 1.1847 - acc: 0.5574 - val_loss: 1.1752 - val_acc: 0.5537\n",
      "Epoch 15/50\n",
      "448/448 [==============================] - 22s 49ms/step - loss: 1.1576 - acc: 0.5631 - val_loss: 1.1697 - val_acc: 0.5561\n",
      "Epoch 16/50\n",
      "448/448 [==============================] - 22s 49ms/step - loss: 1.1184 - acc: 0.5823 - val_loss: 1.1419 - val_acc: 0.5724\n",
      "Epoch 17/50\n",
      "448/448 [==============================] - 22s 49ms/step - loss: 1.0897 - acc: 0.5921 - val_loss: 1.1408 - val_acc: 0.5732\n",
      "Epoch 18/50\n",
      "448/448 [==============================] - 22s 49ms/step - loss: 1.0586 - acc: 0.6062 - val_loss: 1.1228 - val_acc: 0.5788\n",
      "Epoch 19/50\n",
      "448/448 [==============================] - 22s 49ms/step - loss: 1.0248 - acc: 0.6165 - val_loss: 1.1088 - val_acc: 0.5868\n",
      "Epoch 20/50\n",
      "448/448 [==============================] - 22s 49ms/step - loss: 0.9951 - acc: 0.6252 - val_loss: 1.1090 - val_acc: 0.5932\n",
      "Epoch 21/50\n",
      "448/448 [==============================] - 23s 52ms/step - loss: 0.9701 - acc: 0.6394 - val_loss: 1.0873 - val_acc: 0.5963\n",
      "Epoch 22/50\n",
      "448/448 [==============================] - 22s 49ms/step - loss: 0.9320 - acc: 0.6511 - val_loss: 1.0885 - val_acc: 0.5992\n",
      "Epoch 23/50\n",
      "448/448 [==============================] - 22s 49ms/step - loss: 0.9051 - acc: 0.6650 - val_loss: 1.0831 - val_acc: 0.6010\n",
      "Epoch 24/50\n",
      "448/448 [==============================] - 22s 49ms/step - loss: 0.8801 - acc: 0.6748 - val_loss: 1.0870 - val_acc: 0.6013\n",
      "Epoch 25/50\n",
      "448/448 [==============================] - 22s 48ms/step - loss: 0.8479 - acc: 0.6884 - val_loss: 1.0880 - val_acc: 0.6073\n",
      "Epoch 26/50\n",
      "448/448 [==============================] - 22s 49ms/step - loss: 0.8231 - acc: 0.6939 - val_loss: 1.0846 - val_acc: 0.6071\n",
      "Epoch 27/50\n",
      "448/448 [==============================] - 22s 49ms/step - loss: 0.7923 - acc: 0.7106 - val_loss: 1.0846 - val_acc: 0.6085\n",
      "Epoch 28/50\n",
      "448/448 [==============================] - 22s 49ms/step - loss: 0.7681 - acc: 0.7156 - val_loss: 1.0833 - val_acc: 0.6131\n",
      "Epoch 29/50\n",
      "448/448 [==============================] - 21s 46ms/step - loss: 0.7374 - acc: 0.7300 - val_loss: 1.0768 - val_acc: 0.6157\n",
      "Epoch 30/50\n",
      "448/448 [==============================] - 17s 39ms/step - loss: 0.7162 - acc: 0.7363 - val_loss: 1.0822 - val_acc: 0.6136\n",
      "Epoch 31/50\n",
      "448/448 [==============================] - 17s 39ms/step - loss: 0.6827 - acc: 0.7484 - val_loss: 1.0919 - val_acc: 0.6152\n",
      "Epoch 32/50\n",
      "448/448 [==============================] - 17s 39ms/step - loss: 0.6603 - acc: 0.7600 - val_loss: 1.0906 - val_acc: 0.6200\n",
      "Epoch 33/50\n",
      "448/448 [==============================] - 17s 39ms/step - loss: 0.6317 - acc: 0.7700 - val_loss: 1.1069 - val_acc: 0.6235\n",
      "Epoch 34/50\n",
      "448/448 [==============================] - 17s 39ms/step - loss: 0.6166 - acc: 0.7763 - val_loss: 1.0935 - val_acc: 0.6211\n",
      "Epoch 35/50\n",
      "448/448 [==============================] - 17s 39ms/step - loss: 0.5975 - acc: 0.7827 - val_loss: 1.1037 - val_acc: 0.6265\n",
      "Epoch 36/50\n",
      "448/448 [==============================] - 17s 39ms/step - loss: 0.5734 - acc: 0.7912 - val_loss: 1.1218 - val_acc: 0.6191\n",
      "Epoch 37/50\n",
      "448/448 [==============================] - 17s 39ms/step - loss: 0.5563 - acc: 0.7959 - val_loss: 1.1149 - val_acc: 0.6235\n",
      "Epoch 38/50\n",
      "448/448 [==============================] - 17s 39ms/step - loss: 0.5284 - acc: 0.8077 - val_loss: 1.1325 - val_acc: 0.6274\n",
      "Epoch 39/50\n",
      "448/448 [==============================] - 17s 39ms/step - loss: 0.5195 - acc: 0.8109 - val_loss: 1.1351 - val_acc: 0.6233- lo - ETA: 1s \n",
      "Epoch 40/50\n",
      "448/448 [==============================] - 17s 39ms/step - loss: 0.5018 - acc: 0.8178 - val_loss: 1.1474 - val_acc: 0.6200\n",
      "Epoch 41/50\n",
      "448/448 [==============================] - 17s 39ms/step - loss: 0.4800 - acc: 0.8267 - val_loss: 1.1527 - val_acc: 0.6232\n",
      "Epoch 42/50\n",
      "448/448 [==============================] - 17s 39ms/step - loss: 0.4636 - acc: 0.8316 - val_loss: 1.1511 - val_acc: 0.6260\n",
      "Epoch 43/50\n",
      "448/448 [==============================] - 17s 39ms/step - loss: 0.4521 - acc: 0.8361 - val_loss: 1.1677 - val_acc: 0.6253\n",
      "Epoch 44/50\n",
      "448/448 [==============================] - 17s 39ms/step - loss: 0.4318 - acc: 0.8421 - val_loss: 1.1911 - val_acc: 0.6247\n",
      "Epoch 45/50\n",
      "448/448 [==============================] - 17s 39ms/step - loss: 0.4239 - acc: 0.8479 - val_loss: 1.1812 - val_acc: 0.6278\n",
      "Epoch 46/50\n",
      "448/448 [==============================] - 17s 38ms/step - loss: 0.4163 - acc: 0.8495 - val_loss: 1.2003 - val_acc: 0.6210\n",
      "Epoch 47/50\n",
      "448/448 [==============================] - 17s 39ms/step - loss: 0.3926 - acc: 0.8593 - val_loss: 1.2029 - val_acc: 0.6290\n",
      "Epoch 48/50\n",
      "448/448 [==============================] - 18s 39ms/step - loss: 0.3859 - acc: 0.8570 - val_loss: 1.2268 - val_acc: 0.6299\n",
      "Epoch 49/50\n",
      "448/448 [==============================] - 17s 39ms/step - loss: 0.3852 - acc: 0.8613 - val_loss: 1.1998 - val_acc: 0.6324\n",
      "Epoch 50/50\n",
      "448/448 [==============================] - 17s 39ms/step - loss: 0.3632 - acc: 0.8691 - val_loss: 1.2463 - val_acc: 0.6279\n"
     ]
    }
   ],
   "source": [
    "model.compile(loss='categorical_crossentropy',optimizer=Adam(lr=0.0001, decay=1e-6),metrics=['accuracy'])\n",
    "model_info = model.fit_generator(\n",
    "            train_generator,\n",
    "            steps_per_epoch=num_train // batch_size,\n",
    "            epochs=num_epoch,\n",
    "            validation_data=validation_generator,\n",
    "            validation_steps=num_val // batch_size)\n"
   ]
  },
  {
   "cell_type": "code",
   "execution_count": 13,
   "metadata": {},
   "outputs": [],
   "source": [
    "def plot_model_history(model_history):\n",
    "    \"\"\"\n",
    "    Plot Accuracy and Loss curves given the model_history\n",
    "    \"\"\"\n",
    "    fig, axs = plt.subplots(1,2,figsize=(15,5))\n",
    "    \n",
    "    # summarize history for accuracy\n",
    "    axs[0].plot(range(1,len(model_history.history['acc'])+1),model_history.history['acc'])\n",
    "    axs[0].plot(range(1,len(model_history.history['val_acc'])+1),model_history.history['val_acc'])\n",
    "    axs[0].set_title('Model Accuracy')\n",
    "    axs[0].set_ylabel('Accuracy')\n",
    "    axs[0].set_xlabel('Epoch')\n",
    "    axs[0].set_xticks(np.arange(1,len(model_history.history['acc'])+1),len(model_history.history['acc'])/10)\n",
    "    axs[0].legend(['train', 'val'], loc='best')\n",
    "    \n",
    "    # summarize history for loss\n",
    "    axs[1].plot(range(1,len(model_history.history['loss'])+1),model_history.history['loss'])\n",
    "    axs[1].plot(range(1,len(model_history.history['val_loss'])+1),model_history.history['val_loss'])\n",
    "    axs[1].set_title('Model Loss')\n",
    "    axs[1].set_ylabel('Loss')\n",
    "    axs[1].set_xlabel('Epoch')\n",
    "    axs[1].set_xticks(np.arange(1,len(model_history.history['loss'])+1),len(model_history.history['loss'])/10)\n",
    "    axs[1].legend(['train', 'val'], loc='best')\n",
    "    fig.savefig('plot.png')\n",
    "    plt.show()"
   ]
  },
  {
   "cell_type": "code",
   "execution_count": 15,
   "metadata": {},
   "outputs": [
    {
     "data": {
      "image/png": "[encoded data removed]",
      "text/plain": [
       "<Figure size 1080x360 with 2 Axes>"
      ]
     },
     "metadata": {
      "needs_background": "light"
     },
     "output_type": "display_data"
    }
   ],
   "source": [
    "plot_model_history(model_info)"
   ]
  },
  {
   "cell_type": "code",
   "execution_count": 16,
   "metadata": {},
   "outputs": [
    {
     "name": "stdout",
     "output_type": "stream",
     "text": [
      "Saved model to disk\n"
     ]
    }
   ],
   "source": [
    "from keras.models import model_from_json \n",
    "#plot_model_history(model_info)\n",
    "#model_json = model.to_json()\n",
    "#with open(\"model.json\", \"w\") as json_file:\n",
    "   # json_file.write(model_json)\n",
    "# serialize weights to HDF5\n",
    "model.save_weights(\"model.h5\")\n",
    "print(\"Saved model to disk\")\n",
    " \n",
    "#model.save_weights('model.h5')"
   ]
  },
  {
   "cell_type": "code",
   "execution_count": 17,
   "metadata": {},
   "outputs": [],
   "source": [
    "model.load_weights('model.h5')\n",
    "#cv2.ocl.setUseOpenCL(False)"
   ]
  },
  {
   "cell_type": "code",
   "execution_count": 28,
   "metadata": {},
   "outputs": [],
   "source": [
    "\n",
    "emotion_dict = {0: \"Angry\", 1: \"Disgusted\", 2: \"Fearful\", 3: \"Happy\", 4: \"Neutral\", 5: \"Sad\", 6: \"Surprised\"}\n",
    "cap = cv2.VideoCapture(0)\n",
    "\n",
    "fourcc = cv2.VideoWriter_fourcc(*'XVID') \n",
    "out = cv2.VideoWriter('output8.avi', fourcc, 20.0, (640, 480)) \n",
    "\n",
    "while True:\n",
    "    # Find haar cascade to draw bounding box around face\n",
    "    ret, frame = cap.read()\n",
    "    if not ret:\n",
    "        break\n",
    "        \n",
    "    \n",
    "    #facecasc = facecasc.load('haarcascade_frontalface_default.xml')\n",
    "    facecasc = cv2.CascadeClassifier(cv2.data.haarcascades + \"haarcascade_frontalface_default.xml\")\n",
    "    gray = cv2.cvtColor(frame, cv2.COLOR_BGR2GRAY)\n",
    "    faces = facecasc.detectMultiScale(gray,scaleFactor=1.3, minNeighbors=5)\n",
    "\n",
    "    for (x, y, w, h) in faces:\n",
    "        \n",
    "        cv2.rectangle(frame, (x, y-50), (x+w, y+h+10), (255, 0, 0), 2)\n",
    "        roi_gray = gray[y:y + h, x:x + w]\n",
    "        cropped_img = np.expand_dims(np.expand_dims(cv2.resize(roi_gray, (48, 48)), -1), 0)\n",
    "        prediction = model.predict(cropped_img)\n",
    "        maxindex = int(np.argmax(prediction))\n",
    "        cv2.putText(frame, emotion_dict[maxindex], (x+20, y-60), cv2.FONT_HERSHEY_SIMPLEX, 1, (255, 255, 255), 2, cv2.LINE_AA)\n",
    "        out.write(frame)\n",
    "\n",
    "    cv2.imshow('Video', cv2.resize(frame,(1600,960),interpolation = cv2.INTER_CUBIC))\n",
    "    if cv2.waitKey(1) & 0xFF == ord('q'):\n",
    "            break\n",
    "\n",
    "cap.release()\n",
    "out.release()\n",
    "cv2.destroyAllWindows()\n",
    "   "
   ]
  }
 ],
 "metadata": {
  "kernelspec": {
   "display_name": "Python 3",
   "language": "python",
   "name": "python3"
  },
  "language_info": {
   "codemirror_mode": {
    "name": "ipython",
    "version": 3
   },
   "file_extension": ".py",
   "mimetype": "text/x-python",
   "name": "python",
   "nbconvert_exporter": "python",
   "pygments_lexer": "ipython3",
   "version": "3.7.6"
  }
 },
 "nbformat": 4,
 "nbformat_minor": 4
}
